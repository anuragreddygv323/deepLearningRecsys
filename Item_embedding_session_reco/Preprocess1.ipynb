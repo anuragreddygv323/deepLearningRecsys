{
 "cells": [
  {
   "cell_type": "markdown",
   "metadata": {},
   "source": [
    "# Pre-process phase 1\n",
    "\n",
    "Based on Gru2Rec github repository by Balázs Hidasi  https://github.com/hidasib/GRU4Rec\n",
    "\n",
    "Download data from http://2015.recsyschallenge.com/challenge.html\n",
    "\n"
   ]
  },
  {
   "cell_type": "code",
   "execution_count": 4,
   "metadata": {},
   "outputs": [],
   "source": [
    "#load data\n",
    "# -*- coding: utf-8 -*-\n",
    "import numpy as np\n",
    "import pandas as pd\n",
    "import datetime as dt\n",
    "import os\n",
    "from collections import  defaultdict \n",
    "\n",
    "PATH_TO_WORKING_DIR = 'c:/asi/dss/deepLearningRecsys/item_embedding_session_reco/'\n",
    "PATH_TO_ORIGINAL_DATA = '././data/'\n",
    "PATH_TO_PROCESSED_DATA = '././ppie_data/'\n",
    "\n",
    "os.chdir(PATH_TO_WORKING_DIR)\n",
    "data = pd.read_csv(PATH_TO_ORIGINAL_DATA + 'yoochoose_clicks_s.dat', sep=',', header=None, usecols=[0,1,2], dtype={0:np.int32, 1:str, 2:np.int64})\n",
    "data.columns = ['SessionId', 'TimeStr', 'ItemId']\n"
   ]
  },
  {
   "cell_type": "code",
   "execution_count": 5,
   "metadata": {},
   "outputs": [],
   "source": [
    "#filter data\n",
    "from collections import defaultdict\n",
    "import re\n",
    "\n",
    "# data['Time'] = data.TimeStr.apply(lambda x: dt.datetime.strptime(x, '%Y-%m-%dT%H:%M:%S.%fZ').timestamp()) #This is not UTC. It does not really matter.\n",
    "# del(data['TimeStr'])\n",
    "\n",
    "data = data[data['TimeStr'].str.contains(\"2014-09\")]    \n",
    "data = data[data['TimeStr'].str.contains('....-..-1',regex=True)]    #filter only sessions from the 09-10\n",
    "\n",
    "\n",
    "#remove sessions shorter than one click, and items who appear in less than 5 sessions\n",
    "session_lengths = data.groupby('SessionId').size()\n",
    "data = data[np.in1d(data.SessionId, session_lengths[session_lengths>1].index)]\n",
    "item_supports = data.groupby('ItemId').size()\n",
    "data = data[np.in1d(data.ItemId, item_supports[item_supports>=5].index)]\n",
    "session_lengths = data.groupby('SessionId').size()\n",
    "data = data[np.in1d(data.SessionId, session_lengths[session_lengths>=2].index)]\n",
    "        "
   ]
  },
  {
   "cell_type": "markdown",
   "metadata": {},
   "source": [
    "<p style=\"color:DarkMagenta;\">**???** Why should we filter 1 click sessions? what is the percent of one click sessions </p>"
   ]
  },
  {
   "cell_type": "code",
   "execution_count": 4,
   "metadata": {},
   "outputs": [],
   "source": [
    "#transfer to corpus format\n",
    "sessions = data.groupby('SessionId')['ItemId'].apply(list)\n",
    "\n",
    "with open(PATH_TO_PROCESSED_DATA + 'rcs15_sesss.txt',\"w\") as outfile:\n",
    "    for session in sessions: \n",
    "        session_str = \" \".join(str(x) for x in session)\n",
    "        outfile.write(session_str+\"\\n\")"
   ]
  },
  {
   "cell_type": "markdown",
   "metadata": {},
   "source": [
    "<p style=\"color:DarkMagenta;\">**???** Print the number of sessions and items in the dataset </p>"
   ]
  },
  {
   "cell_type": "code",
   "execution_count": 5,
   "metadata": {},
   "outputs": [],
   "source": [
    "#split sessions to train and test\n",
    "num_sessions = data.SessionId.nunique()\n",
    "num_sessions_train = round(num_sessions*0.8)\n",
    "\n",
    "with open (PATH_TO_PROCESSED_DATA + 'rcs15_sesss.txt',\"r\") as infile:\n",
    "   content = infile.readlines()\n",
    "\n",
    "with open (PATH_TO_PROCESSED_DATA + 'rcs15_sesss_tr.txt',\"w\") as outfile:\n",
    "    for i in range(num_sessions_train):\n",
    "        outfile.write(content[i].strip()+\"\\n\")\n",
    "\n",
    "with open (PATH_TO_PROCESSED_DATA + 'rcs15_sesss_ts.txt',\"w\") as outfile:\n",
    "    for i in range(num_sessions_train,num_sessions):\n",
    "            outfile.write(content[i].strip()+\"\\n\")\n",
    "\n"
   ]
  },
  {
   "cell_type": "code",
   "execution_count": null,
   "metadata": {
    "collapsed": true
   },
   "outputs": [],
   "source": []
  }
 ],
 "metadata": {
  "anaconda-cloud": {},
  "kernelspec": {
   "display_name": "Python 3",
   "language": "python",
   "name": "python3"
  },
  "language_info": {
   "codemirror_mode": {
    "name": "ipython",
    "version": 3
   },
   "file_extension": ".py",
   "mimetype": "text/x-python",
   "name": "python",
   "nbconvert_exporter": "python",
   "pygments_lexer": "ipython3",
   "version": "3.6.4"
  }
 },
 "nbformat": 4,
 "nbformat_minor": 1
}
